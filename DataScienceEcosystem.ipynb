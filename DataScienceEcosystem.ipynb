{
  "nbformat": 4,
  "nbformat_minor": 0,
  "metadata": {
    "colab": {
      "provenance": [],
      "authorship_tag": "ABX9TyNm0wDGjdtt/efUv7IsgE9p",
      "include_colab_link": true
    },
    "kernelspec": {
      "name": "python3",
      "display_name": "Python 3"
    },
    "language_info": {
      "name": "python"
    }
  },
  "cells": [
    {
      "cell_type": "markdown",
      "metadata": {
        "id": "view-in-github",
        "colab_type": "text"
      },
      "source": [
        "<a href=\"https://colab.research.google.com/github/cndeah/Jupiter/blob/main/DataScienceEcosystem.ipynb\" target=\"_parent\"><img src=\"https://colab.research.google.com/assets/colab-badge.svg\" alt=\"Open In Colab\"/></a>"
      ]
    },
    {
      "cell_type": "code",
      "execution_count": null,
      "metadata": {
        "id": "phKKA23Onmh3"
      },
      "outputs": [],
      "source": []
    },
    {
      "cell_type": "markdown",
      "source": [
        "#Data Science Tools and Ecosystem"
      ],
      "metadata": {
        "id": "JN7mhN-7n0GD"
      }
    },
    {
      "cell_type": "markdown",
      "source": [
        "In this notebook, Data Science Tools and Ecosystem are summarized."
      ],
      "metadata": {
        "id": "kask0bPCoH22"
      }
    },
    {
      "cell_type": "markdown",
      "source": [
        "Some of the popular languages that Data Scientists use are:\n",
        "\n",
        "1. **Python** - Widely used for data analysis, machine learning, and visualization, with many libraries such as Pandas, NumPy, and TensorFlow.\n",
        "2. **R** - A language specifically designed for statistical analysis and visualization, commonly used in academic and research settings.\n",
        "3. **SQL** - Essential for managing and querying databases, often used to extract and manipulate data in data science projects.\n",
        "4. **Julia** - Known for its high performance, especially in numerical and scientific computing, gaining traction in data science.\n",
        "5. **Scala** - Used with Apache Spark for handling big data processing at scale.\n"
      ],
      "metadata": {
        "id": "WKBzhStvoTcG"
      }
    },
    {
      "cell_type": "markdown",
      "source": [
        "Some of the commonly used libraries used by Data Scientists include:\n",
        "\n",
        "1. **Pandas** - Provides high-level data structures like DataFrames, and tools for data manipulation and analysis.\n",
        "2. **NumPy** - Fundamental for numerical computing in Python, offering support for arrays and mathematical functions.\n",
        "3. **Matplotlib** - A library for creating static, animated, and interactive visualizations in Python.\n",
        "4. **Scikit-learn** - A machine learning library that provides simple and efficient tools for data mining and analysis.\n",
        "5. **TensorFlow** - An open-source platform for building machine learning and deep learning models.\n",
        "6. **Seaborn** - A data visualization library based on Matplotlib, designed to create informative and attractive statistical graphics.\n"
      ],
      "metadata": {
        "id": "82LZtHK9o7GJ"
      }
    },
    {
      "cell_type": "markdown",
      "source": [
        "| Data Science Tools         |\n",
        "|----------------------------|\n",
        "| Jupyter Notebooks           |\n",
        "| RStudio                     |\n",
        "| Apache Zeppelin             |\n"
      ],
      "metadata": {
        "id": "LPMzItGwpLFq"
      }
    },
    {
      "cell_type": "code",
      "source": [],
      "metadata": {
        "id": "0xX8w2EYpZDh"
      },
      "execution_count": null,
      "outputs": []
    },
    {
      "cell_type": "markdown",
      "source": [
        "### Below are a few examples of evaluating arithmetic expressions in Python\n",
        "\n",
        "```python\n",
        "# Addition\n",
        "result_addition = 5 + 3\n",
        "print(\"5 + 3 =\", result_addition)\n",
        "\n",
        "# Subtraction\n",
        "result_subtraction = 10 - 4\n",
        "print(\"10 - 4 =\", result_subtraction)\n",
        "\n",
        "# Multiplication\n",
        "result_multiplication = 7 * 6\n",
        "print(\"7 * 6 =\", result_multiplication)\n",
        "\n",
        "# Division\n",
        "result_division = 20 / 4\n",
        "print(\"20 / 4 =\", result_division)\n",
        "\n",
        "# Exponentiation\n",
        "result_exponentiation = 2 ** 3\n",
        "print(\"2 ** 3 =\", result_exponentiation)\n",
        "\n",
        "# Modulus\n",
        "result_modulus = 17 % 3\n",
        "print(\"17 % 3 =\", result_modulus)\n"
      ],
      "metadata": {
        "id": "GkFioIr1ph6e"
      }
    },
    {
      "cell_type": "code",
      "source": [
        "# This is a simple arithmetic expression to multiply then add integers.\n",
        "result = (3 * 4) + 5\n",
        "print(result)\n"
      ],
      "metadata": {
        "colab": {
          "base_uri": "https://localhost:8080/"
        },
        "id": "y6Hne2SspqHD",
        "outputId": "3f235e42-219b-4ca7-8ee9-8525f53ff0e8"
      },
      "execution_count": 1,
      "outputs": [
        {
          "output_type": "stream",
          "name": "stdout",
          "text": [
            "17\n"
          ]
        }
      ]
    },
    {
      "cell_type": "code",
      "source": [
        "# This will convert 200 minutes to hours by dividing by 60.\n",
        "minutes = 200\n",
        "hours = minutes / 60\n",
        "print(hours)\n"
      ],
      "metadata": {
        "colab": {
          "base_uri": "https://localhost:8080/"
        },
        "id": "y4G2UvdRp05z",
        "outputId": "d4d5a64a-1abe-4bec-bcf4-307258bee573"
      },
      "execution_count": 2,
      "outputs": [
        {
          "output_type": "stream",
          "name": "stdout",
          "text": [
            "3.3333333333333335\n"
          ]
        }
      ]
    },
    {
      "cell_type": "markdown",
      "source": [
        "**Objectives:**\n",
        "\n",
        "- List popular languages for Data Science\n",
        "- Describe commonly used libraries in Data Science\n",
        "- Identify Data Science tools and their uses\n",
        "- Demonstrate basic arithmetic operations in Python\n",
        "- Convert units of time (e.g., minutes to hours)\n"
      ],
      "metadata": {
        "id": "ElPu8wiLp6xS"
      }
    },
    {
      "cell_type": "markdown",
      "source": [
        "## Author\n",
        "\n",
        "Cyntia Castillo Lores\n"
      ],
      "metadata": {
        "id": "vBSEQ0QOqBDf"
      }
    }
  ]
}